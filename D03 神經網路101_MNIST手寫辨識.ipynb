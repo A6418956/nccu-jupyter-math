{
 "cells": [
  {
   "cell_type": "markdown",
   "metadata": {},
   "source": [
    "# 3. 神經網路\n",
    "\n",
    "我們終於要開始做生命中第一個神經網路..."
   ]
  },
  {
   "cell_type": "code",
   "execution_count": 1,
   "metadata": {
    "collapsed": true
   },
   "outputs": [],
   "source": [
    "%matplotlib inline\n",
    "import numpy as np\n",
    "import matplotlib.pyplot as plt"
   ]
  },
  {
   "cell_type": "markdown",
   "metadata": {},
   "source": [
    "## 1. 讀入我們的 MNIST"
   ]
  },
  {
   "cell_type": "markdown",
   "metadata": {},
   "source": [
    "### 1.1 由 Keras 讀入 MNIST"
   ]
  },
  {
   "cell_type": "markdown",
   "metadata": {},
   "source": [
    "這次是快速版本。"
   ]
  },
  {
   "cell_type": "code",
   "execution_count": 2,
   "metadata": {
    "collapsed": false
   },
   "outputs": [
    {
     "name": "stderr",
     "output_type": "stream",
     "text": [
      "Using Theano backend.\n"
     ]
    }
   ],
   "source": [
    "from keras.datasets import mnist"
   ]
  },
  {
   "cell_type": "code",
   "execution_count": 3,
   "metadata": {
    "collapsed": false
   },
   "outputs": [],
   "source": [
    "(x0_train, y0_train), (x0_test, y0_test) = mnist.load_data()"
   ]
  },
  {
   "cell_type": "markdown",
   "metadata": {},
   "source": [
    "### 1.2 輸入資料整理"
   ]
  },
  {
   "cell_type": "code",
   "execution_count": 4,
   "metadata": {
    "collapsed": true
   },
   "outputs": [],
   "source": [
    "x_train = x0_train.reshape(60000, 28*28)\n",
    "x_test = x0_test.reshape(10000, 28*28)"
   ]
  },
  {
   "cell_type": "markdown",
   "metadata": {},
   "source": [
    "### 1.3 輸出資料整理"
   ]
  },
  {
   "cell_type": "code",
   "execution_count": 5,
   "metadata": {
    "collapsed": false
   },
   "outputs": [],
   "source": [
    "from keras.utils import np_utils"
   ]
  },
  {
   "cell_type": "code",
   "execution_count": 6,
   "metadata": {
    "collapsed": true
   },
   "outputs": [],
   "source": [
    "y_train = np_utils.to_categorical(y0_train,10)"
   ]
  },
  {
   "cell_type": "code",
   "execution_count": 7,
   "metadata": {
    "collapsed": true
   },
   "outputs": [],
   "source": [
    "y_test = np_utils.to_categorical(y0_test,10)"
   ]
  },
  {
   "cell_type": "markdown",
   "metadata": {},
   "source": [
    "## 2. 打造第一個神經網路\n",
    "\n",
    "這裡我們用的是 Keras 2!"
   ]
  },
  {
   "cell_type": "code",
   "execution_count": 8,
   "metadata": {
    "collapsed": true
   },
   "outputs": [],
   "source": [
    "from keras.models import Sequential\n",
    "from keras.layers import Dense, Activation\n",
    "from keras.optimizers import SGD"
   ]
  },
  {
   "cell_type": "code",
   "execution_count": 9,
   "metadata": {
    "collapsed": true
   },
   "outputs": [],
   "source": [
    "model = Sequential()"
   ]
  },
  {
   "cell_type": "code",
   "execution_count": 10,
   "metadata": {
    "collapsed": true
   },
   "outputs": [],
   "source": [
    "model.add(Dense(units=500, input_dim=784))\n",
    "model.add(Activation('sigmoid'))"
   ]
  },
  {
   "cell_type": "code",
   "execution_count": 11,
   "metadata": {
    "collapsed": true
   },
   "outputs": [],
   "source": [
    "model.add(Dense(units=500))\n",
    "model.add(Activation('sigmoid'))"
   ]
  },
  {
   "cell_type": "code",
   "execution_count": 12,
   "metadata": {
    "collapsed": true
   },
   "outputs": [],
   "source": [
    "model.add(Dense(units=10))\n",
    "model.add(Activation('softmax'))"
   ]
  },
  {
   "cell_type": "markdown",
   "metadata": {},
   "source": [
    "### 1.4 Compile"
   ]
  },
  {
   "cell_type": "code",
   "execution_count": 13,
   "metadata": {
    "collapsed": true
   },
   "outputs": [],
   "source": [
    "model.compile(loss='mse', optimizer=SGD(lr=0.1), metrics=['accuracy'])"
   ]
  },
  {
   "cell_type": "markdown",
   "metadata": {},
   "source": [
    "## 1.5 學習!"
   ]
  },
  {
   "cell_type": "code",
   "execution_count": 14,
   "metadata": {
    "collapsed": false
   },
   "outputs": [
    {
     "name": "stdout",
     "output_type": "stream",
     "text": [
      "Epoch 1/20\n",
      "60000/60000 [==============================] - 35s - loss: 0.0816 - acc: 0.3477    \n",
      "Epoch 2/20\n",
      "60000/60000 [==============================] - 44s - loss: 0.0625 - acc: 0.6117    \n",
      "Epoch 3/20\n",
      "60000/60000 [==============================] - 41s - loss: 0.0452 - acc: 0.7660    \n",
      "Epoch 4/20\n",
      "60000/60000 [==============================] - 37s - loss: 0.0328 - acc: 0.8466    \n",
      "Epoch 5/20\n",
      "60000/60000 [==============================] - 41s - loss: 0.0254 - acc: 0.8746    \n",
      "Epoch 6/20\n",
      "60000/60000 [==============================] - 35s - loss: 0.0212 - acc: 0.8896    \n",
      "Epoch 7/20\n",
      "60000/60000 [==============================] - 37s - loss: 0.0186 - acc: 0.8977    \n",
      "Epoch 8/20\n",
      "60000/60000 [==============================] - 37s - loss: 0.0168 - acc: 0.9047    \n",
      "Epoch 9/20\n",
      "60000/60000 [==============================] - 35s - loss: 0.0155 - acc: 0.9101    \n",
      "Epoch 10/20\n",
      "60000/60000 [==============================] - 38s - loss: 0.0145 - acc: 0.9152    \n",
      "Epoch 11/20\n",
      "60000/60000 [==============================] - 37s - loss: 0.0137 - acc: 0.9193    \n",
      "Epoch 12/20\n",
      "60000/60000 [==============================] - 37s - loss: 0.0130 - acc: 0.9232    \n",
      "Epoch 13/20\n",
      "60000/60000 [==============================] - 52s - loss: 0.0124 - acc: 0.9268    \n",
      "Epoch 14/20\n",
      "60000/60000 [==============================] - 36s - loss: 0.0119 - acc: 0.9297    \n",
      "Epoch 15/20\n",
      "60000/60000 [==============================] - 44s - loss: 0.0114 - acc: 0.9329    \n",
      "Epoch 16/20\n",
      "60000/60000 [==============================] - 59s - loss: 0.0109 - acc: 0.9353    \n",
      "Epoch 17/20\n",
      "60000/60000 [==============================] - 42s - loss: 0.0106 - acc: 0.9373    \n",
      "Epoch 18/20\n",
      "60000/60000 [==============================] - 40s - loss: 0.0102 - acc: 0.9399    \n",
      "Epoch 19/20\n",
      "60000/60000 [==============================] - 36s - loss: 0.0099 - acc: 0.9415    \n",
      "Epoch 20/20\n",
      "60000/60000 [==============================] - 38s - loss: 0.0096 - acc: 0.9440    \n"
     ]
    },
    {
     "data": {
      "text/plain": [
       "<keras.callbacks.History at 0x10ef714a8>"
      ]
     },
     "execution_count": 14,
     "metadata": {},
     "output_type": "execute_result"
    }
   ],
   "source": [
    "model.fit(x_train, y_train, batch_size=100, epochs=20)"
   ]
  },
  {
   "cell_type": "markdown",
   "metadata": {},
   "source": [
    "## 2. 試用我們的結果"
   ]
  },
  {
   "cell_type": "code",
   "execution_count": 15,
   "metadata": {
    "collapsed": false
   },
   "outputs": [],
   "source": [
    "from ipywidgets import interact_manual"
   ]
  },
  {
   "cell_type": "code",
   "execution_count": 16,
   "metadata": {
    "collapsed": false
   },
   "outputs": [
    {
     "name": "stdout",
     "output_type": "stream",
     "text": [
      " 9856/10000 [============================>.] - ETA: 0s"
     ]
    }
   ],
   "source": [
    "result = model.predict_classes(x_test)"
   ]
  },
  {
   "cell_type": "code",
   "execution_count": 17,
   "metadata": {
    "collapsed": false
   },
   "outputs": [],
   "source": [
    "def 辨識(測試編號):\n",
    "    plt.imshow(x0_test[測試編號], cmap=\"Greys\")\n",
    "    print(\"神經網路判斷為:\", result[測試編號])"
   ]
  },
  {
   "cell_type": "code",
   "execution_count": 18,
   "metadata": {
    "collapsed": false
   },
   "outputs": [],
   "source": [
    "interact_manual(辨識, 測試編號 = (0, 9999));"
   ]
  },
  {
   "cell_type": "markdown",
   "metadata": {},
   "source": [
    "## 3. 訓練好的神經網路存起來!"
   ]
  },
  {
   "cell_type": "code",
   "execution_count": 19,
   "metadata": {
    "collapsed": true
   },
   "outputs": [],
   "source": [
    "model_json = model.to_json()\n",
    "open('handwriting_model_architecture.json', 'w').write(model_json)\n",
    "model.save_weights('handwriting_model_weights.h5')"
   ]
  }
 ],
 "metadata": {
  "anaconda-cloud": {},
  "kernelspec": {
   "display_name": "Python [conda root]",
   "language": "python",
   "name": "conda-root-py"
  },
  "language_info": {
   "codemirror_mode": {
    "name": "ipython",
    "version": 3
   },
   "file_extension": ".py",
   "mimetype": "text/x-python",
   "name": "python",
   "nbconvert_exporter": "python",
   "pygments_lexer": "ipython3",
   "version": "3.5.2"
  }
 },
 "nbformat": 4,
 "nbformat_minor": 1
}
