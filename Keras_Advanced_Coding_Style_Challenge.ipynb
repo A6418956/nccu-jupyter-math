{
 "cells": [
  {
   "cell_type": "code",
   "execution_count": 1,
   "metadata": {},
   "outputs": [
    {
     "name": "stderr",
     "output_type": "stream",
     "text": [
      "Using TensorFlow backend.\n"
     ]
    }
   ],
   "source": [
    "# 各種好用套件\n",
    "import os, random, sys, keras, math\n",
    "import numpy as np\n",
    "\n",
    "# 大畫家\n",
    "import matplotlib.patches as mpatches\n",
    "import matplotlib.pyplot as plt\n",
    "%matplotlib inline\n",
    "\n",
    "# k~k~k~~~~Keras core sturcture\n",
    "from keras.models import Sequential, Model\n",
    "from keras.layers import Activation, Input, Dense, Lambda, Dropout, concatenate, Flatten, Reshape\n",
    "from keras.initializers import Ones\n",
    "\n",
    "# some\n",
    "from keras import initializers\n",
    "from keras.constraints import max_norm, non_neg, unit_norm\n",
    "from keras import backend as K\n",
    "from keras import metrics\n",
    "\n",
    "# used for RGB to Lab transformation\n",
    "from skimage import color\n",
    "color.colorconv.lab_ref_white = np.array([95.047, 100.0, 108.883])\n",
    "\n",
    "# MNIST:\n",
    "#     Dataset of 60,000 28x28 grayscale images of the 10 digits, along with a test set of 10,000 images.\n",
    "from keras.datasets import mnist\n",
    "# CIFAR10: \n",
    "#     Dataset of 50,000 32x32 color training images, labeled over 10 categories, and 10,000 test images.\n",
    "from keras.datasets import cifar10"
   ]
  },
  {
   "cell_type": "code",
   "execution_count": 2,
   "metadata": {},
   "outputs": [],
   "source": [
    "(x_train, y_train), (x_test, y_test) = cifar10.load_data()"
   ]
  },
  {
   "cell_type": "code",
   "execution_count": 3,
   "metadata": {},
   "outputs": [],
   "source": [
    "x_train = x_train/255\n",
    "x_test = x_test/255"
   ]
  },
  {
   "cell_type": "code",
   "execution_count": 4,
   "metadata": {},
   "outputs": [
    {
     "data": {
      "text/plain": [
       "<matplotlib.text.Text at 0xf9e2240>"
      ]
     },
     "execution_count": 4,
     "metadata": {},
     "output_type": "execute_result"
    },
    {
     "data": {
      "image/png": "[encoded data removed]",
      "text/plain": [
       "<matplotlib.figure.Figure at 0x4e78550>"
      ]
     },
     "metadata": {},
     "output_type": "display_data"
    }
   ],
   "source": [
    "imgNumber = 100\n",
    "\n",
    "rgb_data = x_train[imgNumber]\n",
    "plt.imshow(rgb_data)\n",
    "plt.title('RGB Image')"
   ]
  },
  {
   "cell_type": "code",
   "execution_count": 6,
   "metadata": {},
   "outputs": [],
   "source": [
    "x_train_R = x_train[:,:,:,0]\n",
    "x_train_G = x_train[:,:,:,1]\n",
    "x_train_B = x_train[:,:,:,2]"
   ]
  },
  {
   "cell_type": "code",
   "execution_count": 7,
   "metadata": {},
   "outputs": [],
   "source": [
    "x_R_img = Input(shape=(32, 32,), name='R_part')\n",
    "x_R = Flatten()(x_R_img)\n",
    "\n",
    "x_G_img = Input(shape=(32, 32,), name='G_part')\n",
    "x_G = Flatten()(x_G_img)\n",
    "\n",
    "x_B_img = Input(shape=(32, 32,), name='B_part')\n",
    "x_B = Flatten()(x_B_img)\n",
    "\n",
    "enc_R = Dense(100, activation='relu')(x_R)\n",
    "h_R = Dense(2, activation='relu')(enc_R)\n",
    "dec_R = Dense(100, activation='relu')(h_R)\n",
    "dec_R_img = Dense(32*32, activation='sigmoid')(dec_R)\n",
    "x_G_reconstructed = Reshape((32, 32))(dec_R_img)\n",
    "\n",
    "enc_G = Dense(100, activation='relu')(x_G)\n",
    "h_G = Dense(2, activation='relu')(enc_G)\n",
    "dec_G = Dense(100, activation='relu')(h_G)\n",
    "dec_G_img = Dense(32*32, activation='sigmoid')(dec_G)\n",
    "x_B_reconstructed = Reshape((32, 32))(dec_G_img)\n",
    "\n",
    "enc_B = Dense(100, activation='relu')(x_B)\n",
    "h_B = Dense(2, activation='relu')(enc_B)\n",
    "dec_B = Dense(100, activation='relu')(h_B)\n",
    "dec_B_img = Dense(32*32, activation='sigmoid')(dec_B)\n",
    "x_R_reconstructed = Reshape((32, 32))(dec_B_img)\n",
    "\n",
    "model = Model([x_R_img, x_G_img, x_B_img], [x_G_reconstructed, x_B_reconstructed, x_R_reconstructed])"
   ]
  },
  {
   "cell_type": "code",
   "execution_count": 8,
   "metadata": {
    "collapsed": true
   },
   "outputs": [],
   "source": [
    "def my_loss(y_true, y_pred):\n",
    "    error_G = x_G_img - x_G_reconstructed\n",
    "    error_B = x_B_img - x_B_reconstructed\n",
    "    error_R = x_R_img - x_R_reconstructed\n",
    "    \n",
    "    mse_G = K.mean(K.square(error_G))\n",
    "    mse_B = K.mean(K.square(error_B))\n",
    "    mse_R = K.mean(K.square(error_R))\n",
    "    return mse_R + mse_G + mse_B"
   ]
  },
  {
   "cell_type": "code",
   "execution_count": null,
   "metadata": {},
   "outputs": [],
   "source": [
    "#model.compile(loss='mse', optimizer='rmsprop')\n",
    "model.compile(loss=my_loss, optimizer='rmsprop')"
   ]
  },
  {
   "cell_type": "code",
   "execution_count": null,
   "metadata": {},
   "outputs": [],
   "source": [
    "model.fit([x_train_R, x_train_G, x_train_B], [x_train_G, x_train_B, x_train_R], verbose=2,\n",
    "          epochs=10, batch_size=500)"
   ]
  },
  {
   "cell_type": "code",
   "execution_count": null,
   "metadata": {},
   "outputs": [],
   "source": [
    "imgNumber = 2\n",
    "\n",
    "test = x_train[imgNumber : imgNumber+1, :, :, :]\n",
    "test_R = test[:,:,:, 0]\n",
    "test_G = test[:,:,:, 1]\n",
    "test_B = test[:,:,:, 2]\n"
   ]
  },
  {
   "cell_type": "code",
   "execution_count": null,
   "metadata": {},
   "outputs": [],
   "source": [
    "G, B, R = model.predict([test_R, test_G, test_B])"
   ]
  },
  {
   "cell_type": "code",
   "execution_count": null,
   "metadata": {},
   "outputs": [],
   "source": [
    "G.shape"
   ]
  },
  {
   "cell_type": "code",
   "execution_count": null,
   "metadata": {},
   "outputs": [],
   "source": [
    "# raw image\n",
    "plt.subplot(251)\n",
    "plt.imshow(test[0])\n",
    "plt.title('raw RGB Image')\n",
    "\n",
    "plt.subplot(252)\n",
    "plt.imshow(test_R[0], cmap='Reds')\n",
    "plt.title('reconstructed R Image')\n",
    "plt.axis('off')\n",
    "\n",
    "plt.subplot(253)\n",
    "plt.imshow(test_G[0], cmap='Greens')\n",
    "plt.title('reconstructed G Image')\n",
    "plt.axis('off')\n",
    "\n",
    "plt.subplot(254)\n",
    "plt.imshow(test_B[0], cmap='Blues')\n",
    "plt.title('reconstructed G Image')\n",
    "plt.axis('off')\n",
    "\n",
    "# reconstructed image\n",
    "plt.subplot(259)\n",
    "plt.imshow(R[0], cmap='Reds')\n",
    "#plt.title('reconstructed R Image')\n",
    "plt.axis('off')\n",
    "\n",
    "plt.subplot(257)\n",
    "plt.imshow(G[0], cmap='Greens')\n",
    "#plt.title('reconstructed G Image')\n",
    "plt.axis('off')\n",
    "\n",
    "plt.subplot(258)\n",
    "plt.imshow(B[0], cmap='Blues')\n",
    "#plt.title('reconstructed G Image')\n",
    "plt.axis('off')\n",
    "\n",
    "plt.subplot(2,5,10)\n",
    "plt.imshow(np.array([R[0], G[0], B[0]]).T)\n",
    "#plt.title('reconstructed Image')\n",
    "plt.axis('off')\n"
   ]
  },
  {
   "cell_type": "code",
   "execution_count": null,
   "metadata": {},
   "outputs": [],
   "source": [
    "np.array([R[0], G[0], B[0]]).shape"
   ]
  },
  {
   "cell_type": "code",
   "execution_count": null,
   "metadata": {
    "collapsed": true
   },
   "outputs": [],
   "source": []
  }
 ],
 "metadata": {
  "kernelspec": {
   "display_name": "Python 3",
   "language": "python",
   "name": "python3"
  },
  "language_info": {
   "codemirror_mode": {
    "name": "ipython",
    "version": 3
   },
   "file_extension": ".py",
   "mimetype": "text/x-python",
   "name": "python",
   "nbconvert_exporter": "python",
   "pygments_lexer": "ipython3",
   "version": "3.5.0"
  }
 },
 "nbformat": 4,
 "nbformat_minor": 2
}
